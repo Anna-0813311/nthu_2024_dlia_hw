{
  "cells": [
    {
      "cell_type": "markdown",
      "metadata": {
        "id": "Li0bVCTuxc6n"
      },
      "source": [
        "<div align=\"center\">\n",
        "\n",
        "#### Lab 3\n",
        "\n",
        "# National Tsing Hua University\n",
        "\n",
        "#### Spring 2024\n",
        "\n",
        "#### 11220IEEM 513600\n",
        "\n",
        "#### Deep Learning and Industrial Applications\n",
        "    \n",
        "## Lab 3: Anomaly Detection in Industrial Applications\n",
        "\n",
        "</div>"
      ]
    },
    {
      "cell_type": "markdown",
      "metadata": {
        "id": "OlvflhYwCu8Q"
      },
      "source": [
        "### Introduction\n",
        "\n",
        "In today's industrial landscape, the ability to detect anomalies in manufacturing processes and products is critical for maintaining quality, efficiency, and safety. This lab focuses on leveraging deep learning techniques for anomaly detection in various industrial applications, using the MVTEC Anomaly Detection Dataset. By employing ImageNet-pretrained models available in torchvision, students will gain hands-on experience in classfying defects and irregularities across different types of industrial products.\n",
        "\n",
        "Throughout this lab, you'll be involved in the following key activities:\n",
        "- Explore and process the MVTec Anomaly Detection Dataset.\n",
        "- Apply ImageNet-pretrained models from [Torchvision](https://pytorch.org/vision/stable/models.html) to detect anomalies in industrial products.\n",
        "- Evaluate the performance of the models to understand their effectiveness in real-world industrial applications.\n",
        "\n",
        "### Objectives\n",
        "\n",
        "- Understand the principles of anomaly detection in the context of industrial applications.\n",
        "- Learn how to implement and utilize ImageNet-pretrained models for detecting anomalies.\n",
        "- Analyze and interpret the results of the anomaly detection models to assess their practicality in industrial settings.\n",
        "\n",
        "### Dataset\n",
        "\n",
        "The MVTec AD Dataset is a comprehensive collection of high-resolution images across different categories of industrial products, such as bottles, cables, and metal nuts, each with various types of defects. This dataset is pivotal for developing and benchmarking anomaly detection algorithms. You can download our lab's dataset [here](https://drive.google.com/file/d/19600hUOpx0hl78TdpdH0oyy-gGTk_F_o/view?usp=share_link). You can drop downloaded data and drop to colab, or you can put into yor google drive.\n",
        "\n",
        "### References\n",
        "- [MVTec AD Dataset](https://www.kaggle.com/datasets/ipythonx/mvtec-ad/data) for the dataset used in this lab.\n",
        "- [Torchvision Models](https://pytorch.org/vision/stable/models.html) for accessing ImageNet-pretrained models to be used in anomaly detection tasks.\n",
        "- [State-of-the-Art Anomaly Detection on MVTec AD](https://paperswithcode.com/sota/anomaly-detection-on-mvtec-ad) for insights into the latest benchmarks and methodologies in anomaly detection applied to the MVTec AD dataset.\n",
        "- [CVPR 2019: MVTec AD — A Comprehensive Real-World Dataset for Unsupervised Anomaly Detection] for the original paper of MVTec AD dataset."
      ]
    },
    {
      "cell_type": "code",
      "execution_count": 1,
      "metadata": {
        "id": "GuiEw1L0Cu8Q"
      },
      "outputs": [],
      "source": [
        "import matplotlib.pyplot as plt\n",
        "import random\n",
        "from tqdm.auto import tqdm\n",
        "import cv2\n",
        "import numpy as np\n",
        "\n",
        "import torch\n",
        "from torch import nn, optim\n",
        "import torch.nn.functional as F\n",
        "from torch.utils.data import Dataset, DataLoader\n",
        "from torchvision import transforms\n",
        "import matplotlib.pyplot as plt\n",
        "import os\n",
        "from PIL import Image\n",
        "import numpy as np\n",
        "import random\n",
        "from torchsummary import summary\n"
      ]
    },
    {
      "cell_type": "code",
      "execution_count": 2,
      "metadata": {
        "id": "3GiOZBRJCu8S"
      },
      "outputs": [
        {
          "data": {
            "application/vnd.jupyter.widget-view+json": {
              "model_id": "e6aa280c63ef4f42b0063e6921a9cfa6",
              "version_major": 2,
              "version_minor": 0
            },
            "text/plain": [
              "  0%|          | 0/83 [00:00<?, ?it/s]"
            ]
          },
          "metadata": {},
          "output_type": "display_data"
        },
        {
          "name": "stdout",
          "output_type": "stream",
          "text": [
            "(83, 900, 900, 3)\n"
          ]
        }
      ],
      "source": [
        "root_dir = \"C:\\\\Users\\\\AnnaChen\\\\Python\\\\DL\\\\nthu\\\\hw3\\\\bottle\\\\test\"\n",
        "label = [\"broken_large\", \"broken_small\", \"contamination\", \"good\"]\n",
        "\n",
        "file_paths = []\n",
        "for label_dir in label:\n",
        "    path = os.path.join(root_dir, label_dir) # 合併成完整的資料夾路徑: \"C:\\Users\\AnnaChen\\Python\\DL\\HW1\\Dataset\\training data\\train\\disgust\")\n",
        "    img_path = os.listdir(path) # 將該路徑(資料夾)內的圖檔全部讀取到一個List中: [\"Training_659019\", \"Training_680349\", ......]\n",
        "    for img_name in img_path:\n",
        "        img_item_path = os.path.join(root_dir, label_dir, img_name) # 圖片的路徑: \"C:\\Users\\AnnaChen\\Python\\DL\\HW1\\Dataset\\training data\\train\\disgust\\Training_659019.jpg\"\n",
        "        file_paths.append(img_item_path)\n",
        "\n",
        "all_data = []\n",
        "for img in tqdm(file_paths):\n",
        "    img = cv2.imread(img)\n",
        "    img = img[..., ::-1]\n",
        "    all_data.append(img)\n",
        "\n",
        "all_data = np.stack(all_data)\n",
        "print(all_data.shape)"
      ]
    },
    {
      "cell_type": "code",
      "execution_count": 5,
      "metadata": {},
      "outputs": [
        {
          "data": {
            "image/png": "[encoded data removed]",
            "text/plain": [
              "<Figure size 640x480 with 1 Axes>"
            ]
          },
          "metadata": {},
          "output_type": "display_data"
        }
      ],
      "source": [
        "import matplotlib.pyplot as plt\n",
        "\n",
        "# 四個類別的樣本數量\n",
        "class_samples = [16, 18, 18, 14]\n",
        "# 四個類別的標籤\n",
        "class_labels = ['Class 1', 'Class 2', 'Class 3', 'Class 4']\n",
        "\n",
        "# 繪製直方圖\n",
        "plt.bar(class_labels, class_samples, color='skyblue')\n",
        "\n",
        "# 添加標題和標籤\n",
        "plt.title('Class Distribution')\n",
        "plt.xlabel('Classes')\n",
        "plt.ylabel('Number of Samples')\n",
        "\n",
        "# 顯示圖形\n",
        "plt.show()\n"
      ]
    },
    {
      "cell_type": "markdown",
      "metadata": {
        "id": "w-1PsC--M7pT"
      },
      "source": [
        "## A. Data Loading and Preprocessing"
      ]
    },
    {
      "cell_type": "code",
      "execution_count": 3,
      "metadata": {},
      "outputs": [],
      "source": [
        "# ImageFolder\n",
        "\n",
        "from torchvision.datasets import ImageFolder\n",
        "from transformers import ViTImageProcessor\n",
        "from sklearn.model_selection import train_test_split\n",
        "\n",
        "root_dir = \"C:\\\\Users\\\\AnnaChen\\\\Python\\\\DL\\\\nthu\\\\hw3\\\\bottle\\\\test\"\n",
        "dataset = ImageFolder(root = root_dir)\n",
        "# print(dataset.class_to_idx)\n",
        "\n",
        "# processor = ViTImageProcessor.from_pretrained(\"google/vit-base-patch16-224\") # transform of ViT\n",
        "# a = processor(images = train_set_before[i][0], return_tensors = \"pt\")\n",
        "# print(a[\"pixel_values\"][0].shape)\n",
        "\n",
        "train_transforms = transforms.Compose(\n",
        "    [\n",
        "        transforms.Resize(224),\n",
        "        transforms.AutoAugment(),\n",
        "        transforms.RandomHorizontalFlip(),\n",
        "        transforms.ToTensor()\n",
        "    ]\n",
        ")\n",
        "\n",
        "# train_transforms = transforms.Compose(\n",
        "#     [\n",
        "#         transforms.CenterCrop(224),\n",
        "#         transforms.RandomHorizontalFlip(),\n",
        "#         transforms.ToTensor(),\n",
        "#         transforms.Normalize(mean = [0.485, 0.456, 0.406], std = [0.229, 0.224, 0.225])\n",
        "#     ]\n",
        "# )\n",
        "\n",
        "val_transforms = transforms.Compose(\n",
        "    [\n",
        "        transforms.Resize(224),\n",
        "        transforms.ToTensor(),\n",
        "    ]\n",
        ")\n",
        "\n",
        "train_set_before, valid_set_before = train_test_split(dataset, test_size = 0.2, random_state = 401)\n",
        "batch_size = 36\n",
        "\n",
        "train_set = []\n",
        "for i in range(len(train_set_before)):\n",
        "    totuple = (train_transforms(train_set_before[i][0]), train_set_before[i][1])\n",
        "    train_set.append(totuple)\n",
        "\n",
        "valid_set = []\n",
        "for i in range(len(valid_set_before)):\n",
        "    totuple = (val_transforms(valid_set_before[i][0]), valid_set_before[i][1])\n",
        "    valid_set.append(totuple)\n",
        "\n",
        "trainloader = DataLoader(train_set, batch_size = batch_size, shuffle = True, num_workers = 2)\n",
        "validloader = DataLoader(valid_set, batch_size = batch_size, shuffle = False, num_workers = 2)"
      ]
    },
    {
      "cell_type": "code",
      "execution_count": 4,
      "metadata": {},
      "outputs": [
        {
          "name": "stdout",
          "output_type": "stream",
          "text": [
            "[16, 18, 18, 14]\n"
          ]
        }
      ],
      "source": [
        "L_train = [0, 0, 0, 0]\n",
        "for i in range(len(train_set_before)):\n",
        "    x = train_set_before[i][1]\n",
        "    L_train[x] += 1\n",
        "print(L_train) # [16, 18, 18, 14]"
      ]
    },
    {
      "cell_type": "code",
      "execution_count": 6,
      "metadata": {},
      "outputs": [
        {
          "name": "stdout",
          "output_type": "stream",
          "text": [
            "[4, 4, 3, 6]\n"
          ]
        }
      ],
      "source": [
        "L_valid = [0, 0, 0, 0]\n",
        "for i in range(len(valid_set_before)):\n",
        "    x = valid_set_before[i][1]\n",
        "    L_valid[x] += 1\n",
        "print(L_valid) # [4, 4, 3, 6]"
      ]
    },
    {
      "cell_type": "code",
      "execution_count": 12,
      "metadata": {},
      "outputs": [
        {
          "name": "stdout",
          "output_type": "stream",
          "text": [
            "{'broken_large': 0, 'broken_small': 1, 'contamination': 2, 'good': 3}\n"
          ]
        }
      ],
      "source": [
        "print(dataset.class_to_idx)"
      ]
    },
    {
      "cell_type": "code",
      "execution_count": 7,
      "metadata": {},
      "outputs": [
        {
          "data": {
            "image/png": "[encoded data removed]",
            "text/plain": [
              "<Figure size 640x480 with 1 Axes>"
            ]
          },
          "metadata": {},
          "output_type": "display_data"
        }
      ],
      "source": [
        "import matplotlib.pyplot as plt\n",
        "\n",
        "# 四個類別的標籤\n",
        "class_labels = ['broken_large', 'broken_small', 'contamination', 'good']\n",
        "\n",
        "# 繪製兩個資料集的直方圖\n",
        "bar_width = 0.35\n",
        "plt.bar(class_labels, L_train, color = 'skyblue', width = bar_width, label = 'Training set')\n",
        "plt.bar([x + bar_width for x in range(len(class_labels))], L_valid, color = 'orange', width = bar_width, label = 'Validation set')\n",
        "\n",
        "# 添加標題和標籤\n",
        "plt.title('Distribution of training and test data')\n",
        "plt.xlabel('Classes')\n",
        "plt.ylabel('Number of Samples')\n",
        "plt.legend()\n",
        "\n",
        "# 顯示圖形\n",
        "plt.show()"
      ]
    },
    {
      "cell_type": "markdown",
      "metadata": {
        "id": "oaLGtT28xc6s"
      },
      "source": [
        "## B. Defining Neural Networks"
      ]
    },
    {
      "cell_type": "code",
      "execution_count": 4,
      "metadata": {
        "id": "oDX8iDKJCu8U"
      },
      "outputs": [
        {
          "name": "stdout",
          "output_type": "stream",
          "text": [
            "param name: fc.weight, shape: torch.Size([4, 2048])\n",
            "param name: fc.bias, shape: torch.Size([4])\n"
          ]
        }
      ],
      "source": [
        "from torchvision import models\n",
        "\n",
        "model = models.resnet50(weights = 'IMAGENET1K_V1')\n",
        "\n",
        "# ConvNet as fixed feature extractor (freeze parameters)\n",
        "for param in model.parameters():\n",
        "    param.requires_grad = False\n",
        "\n",
        "num_ftrs = model.fc.in_features\n",
        "num_class = 4\n",
        "\n",
        "# change # of class from 1000 into 8 in the last layer\n",
        "model.fc = nn.Linear(num_ftrs, num_class)\n",
        "for name, param in model.named_parameters():\n",
        "    if param.requires_grad:\n",
        "        print(f'param name: {name}, shape: {param.shape}')"
      ]
    },
    {
      "cell_type": "code",
      "execution_count": 4,
      "metadata": {},
      "outputs": [
        {
          "name": "stdout",
          "output_type": "stream",
          "text": [
            "param name: classifier.weight, shape: torch.Size([4, 768])\n",
            "param name: classifier.bias, shape: torch.Size([4])\n"
          ]
        }
      ],
      "source": [
        "from transformers import ViTForImageClassification\n",
        "\n",
        "model_name = \"google/vit-base-patch16-224\"    # 定义模型名称或模型的具体路径\n",
        "model = ViTForImageClassification.from_pretrained(model_name)    # 使用 ViTForImageClassification 加载预训练模型\n",
        "\n",
        "# ConvNet as fixed feature extractor (freeze parameters)\n",
        "for param in model.parameters():\n",
        "    param.requires_grad = False\n",
        "\n",
        "in_features = model.classifier.in_features\n",
        "num_class = 4\n",
        "\n",
        "# change # of class from 1000 into 8 in the last layer\n",
        "model.classifier = nn.Linear(in_features = in_features, out_features = num_class)\n",
        "\n",
        "for name, param in model.named_parameters():\n",
        "    if param.requires_grad:\n",
        "        print(f'param name: {name}, shape: {param.shape}')"
      ]
    },
    {
      "cell_type": "markdown",
      "metadata": {
        "id": "nvLTU-IfZLqn"
      },
      "source": [
        "## C. Training the Neural Network"
      ]
    },
    {
      "cell_type": "code",
      "execution_count": 5,
      "metadata": {
        "id": "45ol4lpVxc6t"
      },
      "outputs": [
        {
          "data": {
            "application/vnd.jupyter.widget-view+json": {
              "model_id": "edc4434248b443e19726f72465ec99bf",
              "version_major": 2,
              "version_minor": 0
            },
            "text/plain": [
              "  0%|          | 0/50 [00:00<?, ?it/s]"
            ]
          },
          "metadata": {},
          "output_type": "display_data"
        },
        {
          "name": "stdout",
          "output_type": "stream",
          "text": [
            "Epoch 1/50, Train loss: 1.3833, Train acc: 30.30%, Val loss: 1.2507, Val acc: 29.41%, Best Val loss: 1.2507 Best Val acc: 29.41%\n",
            "Epoch 2/50, Train loss: 1.2170, Train acc: 43.94%, Val loss: 1.1651, Val acc: 35.29%, Best Val loss: 1.1651 Best Val acc: 35.29%\n",
            "Epoch 3/50, Train loss: 1.0968, Train acc: 54.55%, Val loss: 1.0989, Val acc: 52.94%, Best Val loss: 1.0989 Best Val acc: 52.94%\n",
            "Epoch 4/50, Train loss: 0.9974, Train acc: 69.70%, Val loss: 1.0579, Val acc: 52.94%, Best Val loss: 1.0579 Best Val acc: 52.94%\n",
            "Epoch 5/50, Train loss: 0.9058, Train acc: 78.79%, Val loss: 1.0138, Val acc: 58.82%, Best Val loss: 1.0138 Best Val acc: 58.82%\n",
            "Epoch 6/50, Train loss: 0.8299, Train acc: 80.30%, Val loss: 0.9566, Val acc: 58.82%, Best Val loss: 0.9566 Best Val acc: 58.82%\n",
            "Epoch 7/50, Train loss: 0.7669, Train acc: 84.85%, Val loss: 0.8783, Val acc: 52.94%, Best Val loss: 0.8783 Best Val acc: 58.82%\n",
            "Epoch 8/50, Train loss: 0.7082, Train acc: 90.91%, Val loss: 0.7942, Val acc: 70.59%, Best Val loss: 0.7942 Best Val acc: 70.59%\n",
            "Epoch 9/50, Train loss: 0.6540, Train acc: 90.91%, Val loss: 0.7384, Val acc: 88.24%, Best Val loss: 0.7384 Best Val acc: 88.24%\n",
            "Epoch 10/50, Train loss: 0.5993, Train acc: 93.94%, Val loss: 0.7112, Val acc: 88.24%, Best Val loss: 0.7112 Best Val acc: 88.24%\n",
            "Epoch 11/50, Train loss: 0.5627, Train acc: 92.42%, Val loss: 0.6965, Val acc: 88.24%, Best Val loss: 0.6965 Best Val acc: 88.24%\n",
            "Epoch 12/50, Train loss: 0.5229, Train acc: 92.42%, Val loss: 0.6808, Val acc: 88.24%, Best Val loss: 0.6808 Best Val acc: 88.24%\n",
            "Epoch 13/50, Train loss: 0.4921, Train acc: 92.42%, Val loss: 0.6700, Val acc: 82.35%, Best Val loss: 0.6700 Best Val acc: 88.24%\n",
            "Epoch 14/50, Train loss: 0.4683, Train acc: 92.42%, Val loss: 0.6545, Val acc: 82.35%, Best Val loss: 0.6545 Best Val acc: 88.24%\n",
            "Epoch 15/50, Train loss: 0.4272, Train acc: 95.45%, Val loss: 0.6307, Val acc: 82.35%, Best Val loss: 0.6307 Best Val acc: 88.24%\n",
            "Epoch 16/50, Train loss: 0.4088, Train acc: 96.97%, Val loss: 0.6140, Val acc: 88.24%, Best Val loss: 0.6140 Best Val acc: 88.24%\n",
            "Epoch 17/50, Train loss: 0.3941, Train acc: 96.97%, Val loss: 0.5993, Val acc: 88.24%, Best Val loss: 0.5993 Best Val acc: 88.24%\n",
            "Epoch 18/50, Train loss: 0.3720, Train acc: 96.97%, Val loss: 0.5853, Val acc: 88.24%, Best Val loss: 0.5853 Best Val acc: 88.24%\n",
            "Epoch 19/50, Train loss: 0.3513, Train acc: 96.97%, Val loss: 0.5778, Val acc: 88.24%, Best Val loss: 0.5778 Best Val acc: 88.24%\n",
            "Epoch 20/50, Train loss: 0.3392, Train acc: 96.97%, Val loss: 0.5692, Val acc: 88.24%, Best Val loss: 0.5692 Best Val acc: 88.24%\n"
          ]
        }
      ],
      "source": [
        "import torch.optim as optim\n",
        "from torch.optim.lr_scheduler import CosineAnnealingLR, StepLR\n",
        "from tqdm.auto import tqdm\n",
        "\n",
        "train_losses = []\n",
        "val_losses = []\n",
        "train_accuracies = []\n",
        "val_accuracies = []\n",
        "\n",
        "epochs = 50\n",
        "device = 'cuda' if torch.cuda.is_available() else 'cpu'\n",
        "# print(device)\n",
        "model.to(device)\n",
        "\n",
        "best_val_loss = float('inf')\n",
        "best_val_acc = -1\n",
        "\n",
        "criterion = nn.CrossEntropyLoss()\n",
        "optimizer = optim.Adam(model.parameters(), lr=1e-3)\n",
        "lr_scheduler = CosineAnnealingLR(optimizer, T_max=len(trainloader)*epochs, eta_min=0)\n",
        "# lr_scheduler = StepLR(optimizer, step_size = 10, gamma = 0.1)\n",
        "\n",
        "for epoch in tqdm(range(epochs)):\n",
        "    # Training\n",
        "    model.train()\n",
        "    total_loss = 0.0\n",
        "    train_correct = 0\n",
        "    total_train_samples = 0\n",
        "\n",
        "    for i, (images, labels) in enumerate(trainloader):\n",
        "\n",
        "        images, labels = images.to(device), labels.to(device)\n",
        "        optimizer.zero_grad()\n",
        "        outputs = model(images)\n",
        "        logits = outputs.logits\n",
        "        labels = labels.long()\n",
        "\n",
        "        # loss = criterion(outputs, labels)\n",
        "        loss = criterion(logits, labels)\n",
        "        loss.backward()\n",
        "        optimizer.step()\n",
        "        total_loss += loss.item()\n",
        "\n",
        "        # train_predicted = outputs.argmax(-1)\n",
        "        train_predicted = torch.argmax(logits, dim = 1)\n",
        "        train_correct += (train_predicted == labels).sum().item()\n",
        "        total_train_samples += labels.size(0)\n",
        "\n",
        "    avg_train_loss = total_loss / len(trainloader)\n",
        "    train_accuracy = 100. * train_correct / total_train_samples\n",
        "\n",
        "    # Validation\n",
        "    model.eval()\n",
        "    total_val_loss = 0.0\n",
        "    correct = 0\n",
        "    total = 0\n",
        "    with torch.no_grad():\n",
        "        for images, labels in validloader:\n",
        "\n",
        "            images, labels = images.to(device), labels.to(device)\n",
        "            outputs = model(images)\n",
        "            logits = outputs.logits\n",
        "            labels = labels.long()\n",
        "\n",
        "            # loss = criterion(outputs, labels)\n",
        "            loss = criterion(logits, labels)\n",
        "            total_val_loss += loss.item()\n",
        "\n",
        "            # predicted = outputs.argmax(-1)\n",
        "            predicted = torch.argmax(logits, dim = 1)\n",
        "            correct += (predicted == labels).sum().item()\n",
        "            total += labels.size(0)\n",
        "\n",
        "    avg_val_loss = total_val_loss / len(validloader)\n",
        "    val_accuracy = 100. * correct / total\n",
        "\n",
        "    # Learning rate update\n",
        "    lr_scheduler.step()\n",
        "\n",
        "    # Checkpoint\n",
        "    if avg_val_loss < best_val_loss:\n",
        "        best_val_loss = avg_val_loss\n",
        "\n",
        "    if val_accuracy > best_val_acc:\n",
        "        best_val_acc = val_accuracy\n",
        "        torch.save(model.state_dict(), 'model_classification.pth')\n",
        "\n",
        "    #if (epoch+1) % 10 == 0: \n",
        "    print(f'Epoch {epoch+1}/{epochs}, Train loss: {avg_train_loss:.4f}, Train acc: {train_accuracy:.2f}%, Val loss: {avg_val_loss:.4f}, Val acc: {val_accuracy:.2f}%, Best Val loss: {best_val_loss:.4f} Best Val acc: {best_val_acc:.2f}%')\n",
        "\n",
        "    # Store performance\n",
        "    train_losses.append(avg_train_loss)\n",
        "    train_accuracies.append(train_accuracy)\n",
        "    val_losses.append(avg_val_loss)\n",
        "    val_accuracies.append(val_accuracy)"
      ]
    },
    {
      "cell_type": "markdown",
      "metadata": {
        "id": "pjmYxAJnxc6t"
      },
      "source": [
        "### Visualizing model performance"
      ]
    },
    {
      "cell_type": "code",
      "execution_count": 6,
      "metadata": {
        "id": "pHpS0Q7vxc6t"
      },
      "outputs": [
        {
          "data": {
            "image/png": "[encoded data removed]",
            "text/plain": [
              "<Figure size 1500x500 with 2 Axes>"
            ]
          },
          "metadata": {},
          "output_type": "display_data"
        }
      ],
      "source": [
        "import matplotlib.pyplot as plt\n",
        "\n",
        "fig, ax = plt.subplots(1, 2, figsize=(15, 5))\n",
        "\n",
        "# Plotting training and validation accuracy\n",
        "ax[0].plot(train_accuracies)\n",
        "ax[0].plot(val_accuracies)\n",
        "ax[0].set_title('Model Accuracy')\n",
        "ax[0].set_xlabel('Epochs')\n",
        "ax[0].set_ylabel('Accuracy')\n",
        "ax[0].legend(['Train', 'Val'])\n",
        "\n",
        "# Plotting training and validation loss\n",
        "ax[1].plot(train_losses)\n",
        "ax[1].plot(val_losses)\n",
        "ax[1].set_title('Model Loss')\n",
        "ax[1].set_xlabel('Epochs')\n",
        "ax[1].set_ylabel('Loss')\n",
        "ax[1].legend(['Train', 'Val'])\n",
        "\n",
        "plt.show()"
      ]
    },
    {
      "cell_type": "markdown",
      "metadata": {
        "id": "WVDWBwv6Cu8V"
      },
      "source": [
        "## D. Evaluating Your Trained Model"
      ]
    },
    {
      "cell_type": "markdown",
      "metadata": {
        "id": "uEztHBDjCu8V"
      },
      "source": [
        "### Load Trained Model and Evaluate"
      ]
    },
    {
      "cell_type": "code",
      "execution_count": 9,
      "metadata": {
        "id": "2DA1qHXpCu8V"
      },
      "outputs": [
        {
          "name": "stdout",
          "output_type": "stream",
          "text": [
            "tensor([3, 0, 1, 2, 2, 1, 1, 2, 1, 1, 3, 3, 2, 1, 3, 1, 3], device='cuda:0')\n",
            "tensor([3, 0, 1, 2, 1, 2, 1, 0, 3, 0, 3, 3, 0, 2, 3, 1, 3], device='cuda:0')\n",
            "Test accuracy is 58.8235294117647%\n"
          ]
        }
      ],
      "source": [
        "# Load the trained weights\n",
        "model.load_state_dict(torch.load('model_classification.pth'))\n",
        "\n",
        "# Set the model to evaluation mode\n",
        "model.eval()\n",
        "\n",
        "test_correct = 0\n",
        "test_total = 0\n",
        "\n",
        "with torch.no_grad():\n",
        "    for images, labels in validloader:\n",
        "\n",
        "        images = images.cuda()\n",
        "        images = images\n",
        "\n",
        "        labels = labels.to(device)\n",
        "        labels = labels.long()\n",
        "\n",
        "        outputs = model(images)\n",
        "\n",
        "        predicted = outputs.argmax(-1)\n",
        "        print(predicted)\n",
        "        print(labels)\n",
        "        test_correct += (predicted == labels).sum().item()\n",
        "        test_total += labels.size(0)\n",
        "\n",
        "print(f'Test accuracy is {100. * test_correct / test_total}%')"
      ]
    },
    {
      "cell_type": "code",
      "execution_count": null,
      "metadata": {
        "id": "jG6DuAgcEgxj"
      },
      "outputs": [],
      "source": []
    }
  ],
  "metadata": {
    "accelerator": "GPU",
    "colab": {
      "gpuType": "T4",
      "provenance": []
    },
    "kernelspec": {
      "display_name": "Python 3 (ipykernel)",
      "language": "python",
      "name": "python3"
    },
    "language_info": {
      "codemirror_mode": {
        "name": "ipython",
        "version": 3
      },
      "file_extension": ".py",
      "mimetype": "text/x-python",
      "name": "python",
      "nbconvert_exporter": "python",
      "pygments_lexer": "ipython3",
      "version": "3.11.5"
    }
  },
  "nbformat": 4,
  "nbformat_minor": 0
}
